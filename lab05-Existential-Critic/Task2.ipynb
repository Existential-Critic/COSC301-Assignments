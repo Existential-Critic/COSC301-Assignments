{
 "cells": [
  {
   "cell_type": "markdown",
   "id": "0c46a4ac-1442-4e54-8b2e-19fe795c4125",
   "metadata": {
    "tags": []
   },
   "source": [
    "# Task 2: Reflecting on merge types\n"
   ]
  },
  {
   "cell_type": "code",
   "execution_count": 1,
   "id": "2df91ab0-dcd7-46a2-b6bc-07964473543c",
   "metadata": {},
   "outputs": [],
   "source": [
    "import pandas as pd"
   ]
  },
  {
   "cell_type": "markdown",
   "id": "aec2370b",
   "metadata": {},
   "source": [
    "\n",
    "### Task 2.1 - Table\n",
    "\n",
    "The first part of this question is to fill out a table in words. For each merge type, write a sentence or two to explain each merge type. "
   ]
  },
  {
   "cell_type": "markdown",
   "id": "0dded523-3990-4590-a391-7c479e6d3e87",
   "metadata": {},
   "source": [
    "#### Table To Fill In:\n",
    "\n",
    "| Merge Type | Explanation |\n",
    "| ---------- | ----------- |\n",
    "| Left join  | Returns all records from the left table and matching entries in the right table |\n",
    "| Right join | Returns all records from the right table and matching entries in the left table |\n",
    "| Outer join | Returns all records that are in either the left or right tables |\n",
    "| Inner join | Returns all records that are in both the left and right tables |\n",
    "| Cross join | Returns all records from both the left and right tables (including duplicates) |\n"
   ]
  },
  {
   "cell_type": "markdown",
   "id": "2d8d7d19-8158-4242-bc6d-e512392eb2f6",
   "metadata": {},
   "source": [
    "### Task 2.2 - Visualization\n",
    "\n",
    "The second part of this question is to find (with citation) or create a diagram to explain the merge types visually.\n",
    "\n",
    "Find (or create/sketch) a visualization/graphic/picture that makes sense to you on the different types of join, and explain it (in words) so you can crystallize your understanding of the merge types and how they work practically.\n",
    "\n",
    "**Note: Please clearly cite and reference any graphic with a link and some text that you choose to use from external sources.**"
   ]
  },
  {
   "cell_type": "markdown",
   "id": "a15b6cf4-6c19-42d0-b159-d9e17136e0d5",
   "metadata": {},
   "source": [
    "![Left Join](./images/img_leftjoin.png)\n",
    "\n",
    "![Right Join](./images/img_rightjoin.png)\n",
    "\n",
    "![Outer Join](./images/img_outerjoin.png)\n",
    "\n",
    "![Inner Join](./images/img_innerjoin.png)\n",
    "\n",
    "![Cross Join](./images/img_crossjoin.png)"
   ]
  }
 ],
 "metadata": {
  "kernelspec": {
   "display_name": "Python 3.9.12 ('base')",
   "language": "python",
   "name": "python3"
  },
  "language_info": {
   "codemirror_mode": {
    "name": "ipython",
    "version": 3
   },
   "file_extension": ".py",
   "mimetype": "text/x-python",
   "name": "python",
   "nbconvert_exporter": "python",
   "pygments_lexer": "ipython3",
   "version": "3.9.12"
  },
  "vscode": {
   "interpreter": {
    "hash": "c2a8e56b46ee9fa0e04380cf0795aa315f57484b42fce1cea435e4d2a612bc79"
   }
  }
 },
 "nbformat": 4,
 "nbformat_minor": 5
}
