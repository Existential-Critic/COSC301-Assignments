{
 "cells": [
  {
   "cell_type": "markdown",
   "id": "0ec89a8d-4ff0-4906-a6a4-65f572ff6488",
   "metadata": {},
   "source": [
    "# Task 3: Using `numpy` with `random`\n",
    "\n",
    "In this section, we will practice using the `numpy` library.\n",
    "First, import the `numpy` library\n",
    "\n",
    "```\n",
    "import numpy as np\n",
    "```\n"
   ]
  },
  {
   "cell_type": "code",
   "execution_count": 1,
   "id": "c50e2a7d-866f-4e67-9b5c-8f17e0fec544",
   "metadata": {},
   "outputs": [],
   "source": [
    "# Your Solution here\n",
    "\n",
    "import numpy as np"
   ]
  },
  {
   "cell_type": "markdown",
   "id": "eabe50bb-2156-4bec-b886-6f9e28aa52ab",
   "metadata": {},
   "source": [
    "### 3.1: Create a vector\n",
    "\n",
    "**Task: Create an empty vector of size 10 filled with NaN.**\n",
    "\n",
    "*Hint: you need to use [`zeros()` method](https://numpy.org/doc/stable/reference/generated/numpy.zeros.html) or the [`empty()` method](https://numpy.org/doc/stable/reference/generated/numpy.empty.html?highlight=empty#numpy.empty)*"
   ]
  },
  {
   "cell_type": "code",
   "execution_count": 2,
   "id": "69f89096-d8cf-4423-9e51-c6525fb8fffa",
   "metadata": {},
   "outputs": [
    {
     "name": "stdout",
     "output_type": "stream",
     "text": [
      "[0. 0. 0. 0. 0. 0. 0. 0. 0. 0.]\n"
     ]
    }
   ],
   "source": [
    "# Your Solution here\n",
    "\n",
    "#Create the vector size 10\n",
    "vectorSize = (10)\n",
    "#Create the vector filled with zeros\n",
    "vector = np.zeros(vectorSize)\n",
    "print(vector)"
   ]
  },
  {
   "cell_type": "markdown",
   "id": "e770faa5-6059-4277-bd94-5356c49b0339",
   "metadata": {},
   "source": [
    "### 3.2: Working with Vectors\n",
    "\n",
    "**Task: Create a random vector of size 10 and then find its mean, max, min, and sum value.**\n",
    "\n",
    "*Hint: for random vector you need to use `np.random.random()` and for the mean, max, min, sum you need to use build-in numpy methods `mean()`,`max()`,`min()`,`sum()`*.\n",
    "\n",
    "#### Sample output (Your numbers will be different)\n",
    "\n",
    ">[0.66698639 0.32937943 0.12074085 0.21788496 0.75628444 0.56461791\n",
    " 0.38162184 0.60966053 0.00491222 0.80007239]<br/>\n",
    ">The max is: 0.800<br/>\n",
    ">The min is: 0.005<br/>\n",
    ">The sum is: 4.452<br/>\n",
    ">The mean is: 0.445<br/>"
   ]
  },
  {
   "cell_type": "code",
   "execution_count": 7,
   "id": "9b637c65-095a-4af4-98a5-783783954c1f",
   "metadata": {},
   "outputs": [
    {
     "name": "stdout",
     "output_type": "stream",
     "text": [
      "[0.6308768  0.41162226 0.95323501 0.78650622 0.80858611 0.01374764\n",
      " 0.91034207 0.86211953 0.87299851 0.95549482]\n",
      "The max is: 0.9554948153369415\n",
      "The min is: 0.013747638167779241\n",
      "The sum is: 7.205528953472421\n",
      "The mean is: 0.7205528953472421\n"
     ]
    }
   ],
   "source": [
    "# Your Solution Here\n",
    "\n",
    "#Create the vector size 10\n",
    "vectorSize = (10)\n",
    "#Create the vector filled with zeros\n",
    "vector = np.zeros(vectorSize)\n",
    "#Fill the vector with random values\n",
    "for i in range(len(vector)):\n",
    "    vector[i] = np.random.random()\n",
    "#Print the vector, the max, the min, the sum, and the mean\n",
    "print(vector)\n",
    "print(f\"The max is: {vector.max()}\")\n",
    "print(f\"The min is: {vector.min()}\")\n",
    "print(f\"The sum is: {vector.sum()}\")\n",
    "print(f\"The mean is: {vector.mean()}\")"
   ]
  },
  {
   "cell_type": "markdown",
   "id": "15252ec5-df44-493a-bc81-c8acefcefa7a",
   "metadata": {},
   "source": [
    "### 3.4: More vectors\n",
    "\n",
    "**Task: This is a multi-step question. Read all the directions before you start working on the question and plan out your solution.**\n",
    "\n",
    "- **First, using `numpy`, create a vector of size 15 which contains random values ranging from 10 to 90**\n",
    "- **Then, replace the maximum value of your vector with 500.**\n",
    "- **Then, replace and the minimum value with -500.**\n",
    "- **Print the list (sorted by ascending order) and its mean before replacement, as well as the sorted list after replacement with the new mean.**\n",
    "\n",
    "*Hint: To do this problem as intended, you may need to use the following numpy functions: [`copy()`](https://numpy.org/doc/stable/reference/generated/numpy.copy.html), [`sort()`](https://numpy.org/doc/stable/reference/generated/numpy.sort.html), [`argmax()`](https://numpy.org/doc/stable/reference/generated/numpy.argmax.html), and [`argmin()`](https://numpy.org/doc/stable/reference/generated/numpy.argmin.html). Also, don't forget about `f-strings` and triple-quoted strings for printing.*\n",
    "\n",
    "\n",
    "#### Sample output\n",
    "\n",
    "> **Before number replacement**\n",
    "> \n",
    "> vector: [12 14 14 19 22 25 25 28 28 35 45 47 68 69 73]\n",
    "> \n",
    "> vector_mean = 34.93\n",
    "> \n",
    "> **After number replacement**\n",
    "> \n",
    "> vector: [-500   14   14   19   22   25   25   28   28   35   45   47   68   69\n",
    ">   500]\n",
    "> \n",
    "> new_vector_mean = 29.27"
   ]
  },
  {
   "cell_type": "code",
   "execution_count": 8,
   "id": "0a6d8545-c058-48e0-9c99-c0e38ca81b6b",
   "metadata": {},
   "outputs": [
    {
     "name": "stdout",
     "output_type": "stream",
     "text": [
      "BEFORE NUMBER REPLACEMENT\n",
      "Vector: [11. 16. 23. 29. 32. 38. 51. 55. 56. 57. 59. 61. 61. 74. 90.]\n",
      "Vector mean: 47.53333333333333\n",
      "AFTER NUMBER REPLACEMENT\n",
      "Vector: [-500.   16.   23.   29.   32.   38.   51.   55.   56.   57.   59.   61.\n",
      "   61.   74.  500.]\n",
      "Vector mean: 40.8\n"
     ]
    }
   ],
   "source": [
    "# Your Solution Here\n",
    "\n",
    "#Create the vector size 15\n",
    "vectorSize = (15)\n",
    "#Create the vector filled with zeros\n",
    "vector = np.zeros(vectorSize)\n",
    "#Fill the vector with random values between 10 and 90 inclusive\n",
    "for i in range(len(vector)):\n",
    "    vector[i] = np.random.randint(10,91)\n",
    "#Sort the vector\n",
    "sortedVector = np.sort(vector)\n",
    "print(\"BEFORE NUMBER REPLACEMENT\")\n",
    "print(f\"Vector: {sortedVector}\")\n",
    "print(f\"Vector mean: {sortedVector.mean()}\")\n",
    "sortedVector[0] = -500\n",
    "sortedVector[len(sortedVector)-1] = 500\n",
    "print(\"AFTER NUMBER REPLACEMENT\")\n",
    "print(f\"Vector: {sortedVector}\")\n",
    "print(f\"Vector mean: {sortedVector.mean()}\")\n"
   ]
  }
 ],
 "metadata": {
  "kernelspec": {
   "display_name": "Python 3.9.7 64-bit",
   "language": "python",
   "name": "python3"
  },
  "language_info": {
   "codemirror_mode": {
    "name": "ipython",
    "version": 3
   },
   "file_extension": ".py",
   "mimetype": "text/x-python",
   "name": "python",
   "nbconvert_exporter": "python",
   "pygments_lexer": "ipython3",
   "version": "3.9.7"
  },
  "vscode": {
   "interpreter": {
    "hash": "89dcc342a0fed62138efada758abb9b56691d50b2e1d6d602c5938bd1909f7bb"
   }
  }
 },
 "nbformat": 4,
 "nbformat_minor": 5
}
